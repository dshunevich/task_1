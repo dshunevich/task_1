{
 "cells": [
  {
   "cell_type": "code",
   "execution_count": null,
   "metadata": {},
   "outputs": [],
   "source": []
  },
  {
   "cell_type": "code",
   "execution_count": 5,
   "metadata": {},
   "outputs": [
    {
     "name": "stdout",
     "output_type": "stream",
     "text": [
      "max_sub_list  = [1, 0, 0, 0, 0, 1]\n",
      "max_sub_list = [4, -1, 2, 1]\n",
      "max_sub_list = [4, 0, -3, 0, 4]\n"
     ]
    }
   ],
   "source": [
    "def findMaxSubArray(A):\n",
    "    '''\n",
    "    The function takes as input an array of integers A of nonzero length and\n",
    "    returns a continuous subarray of array A of nonzero length,\n",
    "    which has the largest sum among all continuous\n",
    "    subarrays of array A.\n",
    "    :type A:list\n",
    "    '''\n",
    "    assert type(A)==list, 'The type of A must be list!'\n",
    "    assert len(A)!=0, 'The lenght of the list must be non-zero!'      \n",
    "    max_sub_list = []\n",
    "    max_sum = 0\n",
    "    for i in range(len(A)+1):\n",
    "        for j in range(i+1, len(A)+1):\n",
    "            if max_sum < sum(A[i:j]) or (max_sum == sum(A[i:j]) and len(max_sub_list)>len(A[i:j])):\n",
    "                max_sum = sum(A[i:j])\n",
    "                max_sub_list = A[i:j]     \n",
    "    return max_sub_list\n",
    "    \n",
    "\n",
    "print(f'max_sub_list  = {findMaxSubArray([0, 1, 0, 0, 0, 0, 1, 0])}')\n",
    "print(f'max_sub_list = {findMaxSubArray([-2,1,-3,4,-1,2,1,-5,4])}')\n",
    "print(f'max_sub_list = {findMaxSubArray([0, 0, 0, 4, 0, -3, 0, 4, 0])}')\n",
    "# print(f'max_sub_list = {findMaxSubArray(4)}')\n"
   ]
  },
  {
   "cell_type": "code",
   "execution_count": null,
   "metadata": {},
   "outputs": [],
   "source": []
  },
  {
   "cell_type": "code",
   "execution_count": null,
   "metadata": {},
   "outputs": [],
   "source": []
  },
  {
   "cell_type": "code",
   "execution_count": null,
   "metadata": {},
   "outputs": [],
   "source": []
  }
 ],
 "metadata": {
  "kernelspec": {
   "display_name": "Python 3",
   "language": "python",
   "name": "python3"
  },
  "language_info": {
   "codemirror_mode": {
    "name": "ipython",
    "version": 3
   },
   "file_extension": ".py",
   "mimetype": "text/x-python",
   "name": "python",
   "nbconvert_exporter": "python",
   "pygments_lexer": "ipython3",
   "version": "3.7.4"
  }
 },
 "nbformat": 4,
 "nbformat_minor": 2
}
